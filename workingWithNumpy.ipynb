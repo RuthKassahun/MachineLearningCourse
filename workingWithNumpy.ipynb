{
  "nbformat": 4,
  "nbformat_minor": 0,
  "metadata": {
    "colab": {
      "name": "workingWithNumpy.ipynb",
      "provenance": [],
      "collapsed_sections": [],
      "authorship_tag": "ABX9TyOuAYZcfFFW3NpOHCFYTR4R",
      "include_colab_link": true
    },
    "kernelspec": {
      "name": "python3",
      "display_name": "Python 3"
    },
    "language_info": {
      "name": "python"
    }
  },
  "cells": [
    {
      "cell_type": "markdown",
      "metadata": {
        "id": "view-in-github",
        "colab_type": "text"
      },
      "source": [
        "<a href=\"https://colab.research.google.com/github/RuthKassahun/MachineLearningCourse/blob/main/workingWithNumpy.ipynb\" target=\"_parent\"><img src=\"https://colab.research.google.com/assets/colab-badge.svg\" alt=\"Open In Colab\"/></a>"
      ]
    },
    {
      "cell_type": "code",
      "execution_count": 3,
      "metadata": {
        "colab": {
          "base_uri": "https://localhost:8080/"
        },
        "id": "3tezUX-WCcfe",
        "outputId": "005a4768-f840-4b6f-c722-677f5d388574"
      },
      "outputs": [
        {
          "output_type": "stream",
          "name": "stdout",
          "text": [
            "mean  23.0\n",
            "median  22.0\n",
            "50th percentile  22.0\n",
            "25th percentilr  18.0\n",
            "75th percentile  29.0\n",
            "Standard deviation  6.342099196813483\n",
            "variance  40.22222222222222\n"
          ]
        }
      ],
      "source": [
        "import numpy as np\n",
        "\n",
        "data = [15,16,18,19,22,24,29,30,34]\n",
        "\n",
        "print(\"mean \", np.mean(data))\n",
        "print(\"median \", np.median(data))\n",
        "print(\"50th percentile \", np.percentile(data,50))\n",
        "print(\"25th percentilr \", np.percentile(data,25))\n",
        "print(\"75th percentile \",np.percentile(data,75))\n",
        "print(\"Standard deviation \",np.std(data))\n",
        "print(\"variance \",np.var(data))\n"
      ]
    },
    {
      "cell_type": "code",
      "source": [
        "! git init\n",
        "! git add README.md\n",
        "! git commit -m \"working with numpy\"\n",
        "! git branch -M main\n",
        "! git remote add origin https://github.com/RuthKassahun/MachineLearningCourse.git\n",
        "! git push -u origin main"
      ],
      "metadata": {
        "colab": {
          "base_uri": "https://localhost:8080/"
        },
        "id": "J4gg8UM6Gxwu",
        "outputId": "c404c2b2-6f19-4062-edcc-efa75aadfe19"
      },
      "execution_count": 9,
      "outputs": [
        {
          "output_type": "stream",
          "name": "stdout",
          "text": [
            "Reinitialized existing Git repository in /content/.git/\n",
            "fatal: pathspec 'README.md' did not match any files\n",
            "\n",
            "*** Please tell me who you are.\n",
            "\n",
            "Run\n",
            "\n",
            "  git config --global user.email \"you@example.com\"\n",
            "  git config --global user.name \"Your Name\"\n",
            "\n",
            "to set your account's default identity.\n",
            "Omit --global to set the identity only in this repository.\n",
            "\n",
            "fatal: unable to auto-detect email address (got 'root@8a37c8811e7e.(none)')\n",
            "error: refname refs/heads/master not found\n",
            "fatal: Branch rename failed\n",
            "error: src refspec main does not match any.\n",
            "error: failed to push some refs to 'https://github.com/RuthKassahun/MachineLearningCourse.git'\n"
          ]
        }
      ]
    },
    {
      "cell_type": "code",
      "source": [
        "! git config --global user.email \"ruthkehali@gmail.com\"\n",
        "! git config --global user.name \"RuthKassahun\""
      ],
      "metadata": {
        "id": "mWdU3kywHr9q"
      },
      "execution_count": 10,
      "outputs": []
    },
    {
      "cell_type": "code",
      "source": [
        "! git status"
      ],
      "metadata": {
        "colab": {
          "base_uri": "https://localhost:8080/"
        },
        "id": "l4D7T063H6es",
        "outputId": "49c45bbf-ac24-42cd-cf3d-8b2991959b29"
      },
      "execution_count": 11,
      "outputs": [
        {
          "output_type": "stream",
          "name": "stdout",
          "text": [
            "On branch master\n",
            "\n",
            "No commits yet\n",
            "\n",
            "Untracked files:\n",
            "  (use \"git add <file>...\" to include in what will be committed)\n",
            "\n",
            "\t\u001b[31m.config/\u001b[m\n",
            "\t\u001b[31msample_data/\u001b[m\n",
            "\n",
            "nothing added to commit but untracked files present (use \"git add\" to track)\n"
          ]
        }
      ]
    },
    {
      "cell_type": "code",
      "source": [
        "! git add workingWithNumpy.ipynb\n"
      ],
      "metadata": {
        "colab": {
          "base_uri": "https://localhost:8080/"
        },
        "id": "f3yzWmFqIFB6",
        "outputId": "561e7d80-c9aa-4549-bb14-9a99fdc2ee67"
      },
      "execution_count": 12,
      "outputs": [
        {
          "output_type": "stream",
          "name": "stdout",
          "text": [
            "fatal: pathspec 'workingWithNumpy.ipynb' did not match any files\n"
          ]
        }
      ]
    },
    {
      "cell_type": "code",
      "source": [
        "! git commit -m"
      ],
      "metadata": {
        "colab": {
          "base_uri": "https://localhost:8080/"
        },
        "id": "ZG-pDjonIMRr",
        "outputId": "89f358aa-99dc-4662-e6dd-643191bcbd44"
      },
      "execution_count": 13,
      "outputs": [
        {
          "output_type": "stream",
          "name": "stdout",
          "text": [
            "error: switch `m' requires a value\n",
            "usage: git commit [<options>] [--] <pathspec>...\n",
            "\n",
            "    -q, --quiet           suppress summary after successful commit\n",
            "    -v, --verbose         show diff in commit message template\n",
            "\n",
            "Commit message options\n",
            "    -F, --file <file>     read message from file\n",
            "    --author <author>     override author for commit\n",
            "    --date <date>         override date for commit\n",
            "    -m, --message <message>\n",
            "                          commit message\n",
            "    -c, --reedit-message <commit>\n",
            "                          reuse and edit message from specified commit\n",
            "    -C, --reuse-message <commit>\n",
            "                          reuse message from specified commit\n",
            "    --fixup <commit>      use autosquash formatted message to fixup specified commit\n",
            "    --squash <commit>     use autosquash formatted message to squash specified commit\n",
            "    --reset-author        the commit is authored by me now (used with -C/-c/--amend)\n",
            "    -s, --signoff         add Signed-off-by:\n",
            "    -t, --template <file>\n",
            "                          use specified template file\n",
            "    -e, --edit            force edit of commit\n",
            "    --cleanup <default>   how to strip spaces and #comments from message\n",
            "    --status              include status in commit message template\n",
            "    -S, --gpg-sign[=<key-id>]\n",
            "                          GPG sign commit\n",
            "\n",
            "Commit contents options\n",
            "    -a, --all             commit all changed files\n",
            "    -i, --include         add specified files to index for commit\n",
            "    --interactive         interactively add files\n",
            "    -p, --patch           interactively add changes\n",
            "    -o, --only            commit only specified files\n",
            "    -n, --no-verify       bypass pre-commit and commit-msg hooks\n",
            "    --dry-run             show what would be committed\n",
            "    --short               show status concisely\n",
            "    --branch              show branch information\n",
            "    --ahead-behind        compute full ahead/behind values\n",
            "    --porcelain           machine-readable output\n",
            "    --long                show status in long format (default)\n",
            "    -z, --null            terminate entries with NUL\n",
            "    --amend               amend previous commit\n",
            "    --no-post-rewrite     bypass post-rewrite hook\n",
            "    -u, --untracked-files[=<mode>]\n",
            "                          show untracked files, optional modes: all, normal, no. (Default: all)\n",
            "\n"
          ]
        }
      ]
    },
    {
      "cell_type": "code",
      "source": [
        "! git commit *\n"
      ],
      "metadata": {
        "colab": {
          "base_uri": "https://localhost:8080/"
        },
        "id": "2Wzbf5y3ISmM",
        "outputId": "eab2f42b-17a0-472c-f7f4-d5985d8ad3d7"
      },
      "execution_count": 14,
      "outputs": [
        {
          "output_type": "stream",
          "name": "stdout",
          "text": [
            "error: pathspec 'sample_data' did not match any file(s) known to git.\n"
          ]
        }
      ]
    },
    {
      "cell_type": "code",
      "source": [
        "! git push"
      ],
      "metadata": {
        "colab": {
          "base_uri": "https://localhost:8080/"
        },
        "id": "oXWMFUVnIXR4",
        "outputId": "c2da902c-03ea-4aa7-b809-a1d89fe56df7"
      },
      "execution_count": 15,
      "outputs": [
        {
          "output_type": "stream",
          "name": "stdout",
          "text": [
            "fatal: The current branch master has no upstream branch.\n",
            "To push the current branch and set the remote as upstream, use\n",
            "\n",
            "    git push --set-upstream origin master\n",
            "\n"
          ]
        }
      ]
    },
    {
      "cell_type": "code",
      "source": [
        "! git push --set-upstream origin master"
      ],
      "metadata": {
        "colab": {
          "base_uri": "https://localhost:8080/"
        },
        "id": "wM7F_JJ9IaOG",
        "outputId": "7c6b599e-d8e9-49cc-cbed-5151c795fd69"
      },
      "execution_count": 17,
      "outputs": [
        {
          "output_type": "stream",
          "name": "stdout",
          "text": [
            "error: src refspec master does not match any.\n",
            "error: failed to push some refs to 'https://github.com/RuthKassahun/MachineLearningCourse.git'\n"
          ]
        }
      ]
    },
    {
      "cell_type": "code",
      "source": [
        "! git push -u origin master"
      ],
      "metadata": {
        "colab": {
          "base_uri": "https://localhost:8080/"
        },
        "id": "F0g5tvaGIjUi",
        "outputId": "51a02f08-d1cb-41c9-cc3b-a0ac29ea3de7"
      },
      "execution_count": 18,
      "outputs": [
        {
          "output_type": "stream",
          "name": "stdout",
          "text": [
            "error: src refspec master does not match any.\n",
            "error: failed to push some refs to 'https://github.com/RuthKassahun/MachineLearningCourse.git'\n"
          ]
        }
      ]
    }
  ]
}