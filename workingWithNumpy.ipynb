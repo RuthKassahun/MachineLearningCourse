{
  "nbformat": 4,
  "nbformat_minor": 0,
  "metadata": {
    "colab": {
      "name": "workingWithNumpy.ipynb",
      "provenance": [],
      "collapsed_sections": [],
      "authorship_tag": "ABX9TyOm4P5bVCZc7/tXFmE/lA1W",
      "include_colab_link": true
    },
    "kernelspec": {
      "name": "python3",
      "display_name": "Python 3"
    },
    "language_info": {
      "name": "python"
    }
  },
  "cells": [
    {
      "cell_type": "markdown",
      "metadata": {
        "id": "view-in-github",
        "colab_type": "text"
      },
      "source": [
        "<a href=\"https://colab.research.google.com/github/RuthKassahun/MachineLearningCourse/blob/main/workingWithNumpy.ipynb\" target=\"_parent\"><img src=\"https://colab.research.google.com/assets/colab-badge.svg\" alt=\"Open In Colab\"/></a>"
      ]
    },
    {
      "cell_type": "code",
      "execution_count": 3,
      "metadata": {
        "colab": {
          "base_uri": "https://localhost:8080/"
        },
        "id": "3tezUX-WCcfe",
        "outputId": "005a4768-f840-4b6f-c722-677f5d388574"
      },
      "outputs": [
        {
          "output_type": "stream",
          "name": "stdout",
          "text": [
            "mean  23.0\n",
            "median  22.0\n",
            "50th percentile  22.0\n",
            "25th percentilr  18.0\n",
            "75th percentile  29.0\n",
            "Standard deviation  6.342099196813483\n",
            "variance  40.22222222222222\n"
          ]
        }
      ],
      "source": [
        "import numpy as np\n",
        "\n",
        "data = [15,16,18,19,22,24,29,30,34]\n",
        "\n",
        "print(\"mean \", np.mean(data))\n",
        "print(\"median \", np.median(data))\n",
        "print(\"50th percentile \", np.percentile(data,50))\n",
        "print(\"25th percentilr \", np.percentile(data,25))\n",
        "print(\"75th percentile \",np.percentile(data,75))\n",
        "print(\"Standard deviation \",np.std(data))\n",
        "print(\"variance \",np.var(data))\n"
      ]
    }
  ]
}